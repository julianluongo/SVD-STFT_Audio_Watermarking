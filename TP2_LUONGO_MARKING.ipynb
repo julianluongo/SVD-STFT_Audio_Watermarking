{
 "cells": [
  {
   "cell_type": "code",
   "execution_count": null,
   "metadata": {},
   "outputs": [],
   "source": [
    "from pylab import *\n",
    "from pylab import zeros\n",
    "import math\n",
    "import random\n",
    "import struct\n",
    "from scipy import signal as sg\n",
    "import scipy\n",
    "from scipy import special as sp\n",
    "import numpy as np\n",
    "from numpy.fft import rfft, irfft\n",
    "from matplotlib import pyplot as plt\n",
    "from matplotlib import image as mpimg\n",
    "from PIL import Image\n",
    "import cv2\n",
    "import scipy.io.wavfile as wav\n",
    "import IPython\n",
    "from collections import Counter"
   ]
  },
  {
   "cell_type": "code",
   "execution_count": null,
   "metadata": {},
   "outputs": [],
   "source": [
    "''' SE RECOMIENDA BORRAR TODAS LAS VARIABLES ANTES DE EJECUTAR EL CÓDIGO '''\n",
    "\n",
    "#SE DEFINEN LAS FUNCIONES A UTILIZAR:\n",
    "\n",
    "def most_frequent(List):\n",
    "\n",
    "    'Program to find most frequent element in a list'\n",
    "\n",
    "    occurence_count = Counter(List)\n",
    "    return occurence_count.most_common(1)[0][0]\n"
   ]
  },
  {
   "cell_type": "code",
   "execution_count": null,
   "metadata": {},
   "outputs": [],
   "source": [
    "'''\n",
    "PROCEDIMIENTO PARA WATERMARKING\n",
    "'''\n",
    "\n",
    "#PASO 1: CARGA DE AUDIO\n",
    "\n",
    "audio_location=r'D:\\(ruta-archivo)\\speech.wav'      # <-- CAMBIAR AQUI LA UBICACION DEL ARCHIVO DE AUDIO ORIGINAL.\n",
    "\n",
    "fs_audio, audio = wav.read(audio_location)\n",
    "\n",
    "n=np.arange(0,len(audio))\n",
    "\n",
    "plt.figure()\n",
    "plt.plot(n,audio)\n",
    "plt.ylabel('Amplitud')\n",
    "plt.xlabel('Tiempo [s]')\n",
    "plt.title('audio')  \n",
    "plt.show()\n",
    "\n",
    "print('frecuencia de muestreo : ' + str(fs_audio))\n",
    "IPython.display.Audio(\"speech.wav\")                                          # <-- CAMBIAR AQUI EL NOMBRE DEL ARCHIVO DE AUDIO.\n"
   ]
  },
  {
   "cell_type": "code",
   "execution_count": null,
   "metadata": {},
   "outputs": [],
   "source": [
    "#PASO 2: Cargar la imágen y convertirla a binario [0,1]\n",
    "\n",
    "'''USAR IMAGENES CUADRADAS'''\n",
    "\n",
    "image_location=r'D:\\(ruta-archivo)\\image.jpg' # <-- CAMBIAR AQUI LA UBICACION DEL ARCHIVO DE IMAGEN (WATERMARK).\n",
    "\n",
    "img = cv2.imread(image_location,0)   \n",
    "ret, bw_img = cv2.threshold(img,127,255,cv2.THRESH_BINARY) #se pasa la imagen a binarios(blanco y negro)\n",
    "bw_img=(1/255)*bw_img    #el binario de [0,255] pasa a ser [0,1].\n",
    "plt.imshow(bw_img)\n",
    "print('tamaño del watermark : '+ str(bw_img.shape))\n",
    "alto = (len(bw_img[0]))  \n",
    "ancho = (len(bw_img[:]))\n",
    "bits_totales = alto * ancho"
   ]
  },
  {
   "cell_type": "code",
   "execution_count": null,
   "metadata": {},
   "outputs": [],
   "source": [
    "#PASO 3: Se obtiene la matriz STFT del audio a marcar\n",
    "\n",
    "Ventana ='blackman'                              # <-- CAMBIAR AQUI LA VENTANA STFT DESEADA.\n",
    "m = 256                                          # <-- CAMBIAR AQUI EL ANCHO DESEADO DE LA VENTANA.\n",
    "overlap = m // 2\n",
    "nfft=m\n",
    "return_onesided = True\n",
    "\n",
    "f,t,audio_stft = sg.stft(audio,fs=fs_audio,window=Ventana,nperseg=m,nfft=nfft,noverlap=overlap,return_onesided=return_onesided)\n",
    "\n",
    "fig,ax = plt.subplots()\n",
    "ax.set_ylabel('Frecuencia [Hz]')\n",
    "ax.set_xlabel('Tiempo [s]')\n",
    "ax.pcolormesh(t, f, np.log10(np.abs(audio_stft)))\n",
    "\n",
    "print(sg.check_NOLA(Ventana,m,overlap))"
   ]
  },
  {
   "cell_type": "code",
   "execution_count": null,
   "metadata": {},
   "outputs": [],
   "source": [
    "#PASO 4: Proceso de Marcado del audio\n",
    "\n",
    "bps = bits_totales\n",
    "\n",
    "frame_width = (overlap // bps)        # Ancho del frame\n",
    "\n",
    "a = 0.015                            # <-- CAMBIAR AQUI EL FACTOR DE FUERZA DESEADO.\n",
    "\n",
    "watermarkBits = bw_img.flatten()      # Pasamos la imagen de matriz a array.\n",
    "\n",
    "Dxx = np.zeros(audio_stft.shape,dtype=float64)\n",
    "\n",
    "noise = np.random.normal(0,0.1,size=(frame_width,len(t)))      #Se genera la matriz con el pseudo ruido.\n",
    "noise[noise == 0] = 0.05             #Para evitar errores en la detección por división sobre cero, se reemplazan los posibles ceros por otro valor no nulo (en este caso 0.05).\n",
    "\n",
    "Resultado = audio_stft\n",
    "\n",
    "ind = np.arange(0, len(audio_stft)-frame_width+1, frame_width, dtype = int)    # Determinamos donde empezamos a fragmentar la STFT\n",
    "\n",
    "# Por cada frame:\n",
    "for f in range(len(ind)):\n",
    "\n",
    "    frame = audio_stft[ind[f]:ind[f]+frame_width]\n",
    "\n",
    "    u, d, vt = np.linalg.svd(frame,full_matrices=True) # SVD de cada Frame\n",
    "    d = scipy.linalg.diagsvd(d,len(u),len(vt))\n",
    "\n",
    "    w = noise\n",
    "\n",
    "    delta_i = np.zeros(d.shape,dtype=float)\n",
    "    for i in range( len(d) ):\n",
    "        delta_i[i]= d[i,i]\n",
    "\n",
    "\n",
    "    wd=[]\n",
    "    for i in range( len(d) ):\n",
    "        bit = watermarkBits[f]\n",
    "        wd.append(array(d[i]+a*w[i]*bit))\n",
    "\n",
    "    wd = np.array(wd)\n",
    "    \n",
    "    uw, dw, vwt = np.linalg.svd(wd,full_matrices=True)\n",
    "    dw = scipy.linalg.diagsvd(dw,len(uw),len(vwt))\n",
    "    \n",
    "    \n",
    "    Dxx[ind[f]:ind[f]+frame_width] = np.matmul(np.matmul(uw,d),vwt)         # \"Uw\", \"D\" y \"Vwt\" de cada Frame se guardan en este archivo para la posterior detección.\n",
    "   \n",
    "    Resultado[ind[f]:ind[f]+frame_width] = np.matmul(np.matmul(u,dw),vt)          # Frame de STFT marcado.\n",
    "\n",
    "    \n",
    "Resultado=np.array(Resultado)\n",
    "\n",
    "                             "
   ]
  },
  {
   "cell_type": "code",
   "execution_count": null,
   "metadata": {},
   "outputs": [],
   "source": [
    "#PASO 5: Inversa de la STFT para obtener el audio marcado\n",
    "\n",
    "n_audio_marcado, audio_marcado = sg.istft(Resultado,fs=fs_audio,window=Ventana,nperseg=m,noverlap=overlap,nfft=nfft,input_onesided=return_onesided)    #SALE EL AUDIO MARCADO\n",
    "\n",
    "plt.figure()\n",
    "plt.plot(n_audio_marcado,audio_marcado)\n",
    "plt.ylabel('Amplitud')\n",
    "plt.xlabel('Tiempo [s]')\n",
    "plt.title('Audio_Marcado')  \n",
    "plt.show()\n"
   ]
  },
  {
   "cell_type": "code",
   "execution_count": null,
   "metadata": {},
   "outputs": [],
   "source": [
    "#PASO 6: Exportamos los resultados\n",
    "\n",
    "np.savetxt(\"Dxx.csv\", Dxx, delimiter=\",\")         #EXPORTACION DE MATRIZ Dxx.\n",
    "np.savetxt(\"key.csv\", noise, delimiter=\",\")       #EXPORTACION DE CONTRASEÑA.\n",
    "np.savetxt(\"bps.csv\", np.array([bps,0]), delimiter=\",\")     #EXPORTACION DE BPS.\n",
    "np.savetxt(\"audio_original.csv\", audio, delimiter=\",\")       #EXPORTACION DEL AUDIO ORIGINAL EN FORMATO CSV.\n",
    "np.savetxt(\"strength_factor.csv\", np.array([a,0]), delimiter=\",\")    #EXPORTACION DEL FACTOR DE FUERZA.\n",
    "audio_marcado = audio_marcado/np.max(np.abs(audio_marcado))   \n",
    "audio_marcado = np.iinfo(np.int16).max*audio_marcado\n",
    "wav.write('audio_marcado.wav',fs_audio,audio_marcado.astype(np.int16))  #EXPORTACION DEL AUDIO MARCADO.\n",
    "IPython.display.Audio(\"audio_marcado.wav\")"
   ]
  },
  {
   "cell_type": "code",
   "execution_count": null,
   "metadata": {},
   "outputs": [],
   "source": [
    "'''\n",
    "PARA PRUEBAS: GENERACION DE FALSA CONTRASEÑA (OPCIONAL)\n",
    "'''\n",
    "\n",
    "false_key = np.random.normal(0,0.1,size=(frame_width,len(t)))   \n",
    "np.savetxt(\"false_key.csv\", false_key, delimiter=\",\")    #EXPORTACION DE FALSA CONSTRASEÑA."
   ]
  }
 ],
 "metadata": {
  "kernelspec": {
   "display_name": ".venv",
   "language": "python",
   "name": "python3"
  },
  "language_info": {
   "codemirror_mode": {
    "name": "ipython",
    "version": 3
   },
   "file_extension": ".py",
   "mimetype": "text/x-python",
   "name": "python",
   "nbconvert_exporter": "python",
   "pygments_lexer": "ipython3",
   "version": "3.11.2"
  },
  "orig_nbformat": 4,
  "vscode": {
   "interpreter": {
    "hash": "de078b15794bcafdec809729c1ac017dbe3e42e733b62a2be3c22409ab13af1b"
   }
  }
 },
 "nbformat": 4,
 "nbformat_minor": 2
}
